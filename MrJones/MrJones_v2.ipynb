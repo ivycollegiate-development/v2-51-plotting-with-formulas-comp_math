{
 "cells": [
  {
   "cell_type": "code",
   "execution_count": null,
   "metadata": {},
   "outputs": [],
   "source": [
    "import matplotlib.pyplot as plt\n",
    "\n",
    "# Creates the list objects that will be used to draw our chart\n",
    "study_hours = [0, 1, 2, 3, 4, 5]\n",
    "test_scores = [50, 65, 75, 85, 90, 95]\n",
    "# Create a plot and add markers to indicate each data point\n",
    "plt.plot(study_hours, test_scores, marker='o')\n",
    "# Add your labels\n",
    "\n",
    "# Add a grid in the background for readability\n",
    "\n",
    "# Plot the graph"
   ]
  }
 ],
 "metadata": {
  "language_info": {
   "name": "python"
  }
 },
 "nbformat": 4,
 "nbformat_minor": 2
}
